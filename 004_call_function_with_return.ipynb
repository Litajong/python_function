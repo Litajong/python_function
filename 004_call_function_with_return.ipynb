{
  "cells": [
    {
      "metadata": {
        "trusted": true
      },
      "cell_type": "code",
      "source": "# Call function with return\n# return keyword in a function returns a value after exiting the function\n\ndef msg_double(phrase):\n    double = phrase + \" \" + phrase\n    return double\n\nmsg_2x = msg_double(\"let's go\")\nprint(msg_2x)\ntype(msg_double(\"let's go\"))",
      "execution_count": 6,
      "outputs": [
        {
          "output_type": "stream",
          "text": "let's go let's go\n",
          "name": "stdout"
        },
        {
          "output_type": "execute_result",
          "execution_count": 6,
          "data": {
            "text/plain": "str"
          },
          "metadata": {}
        }
      ]
    },
    {
      "metadata": {
        "trusted": true,
        "scrolled": true
      },
      "cell_type": "code",
      "source": "def half_value(value):\n    return value/2\n\nprint(half_value(42))",
      "execution_count": 7,
      "outputs": [
        {
          "output_type": "stream",
          "text": "21.0\n",
          "name": "stdout"
        }
      ]
    },
    {
      "metadata": {
        "trusted": true
      },
      "cell_type": "code",
      "source": "# Task :Doctor: a function that adds the \"Doctor\" title to a name\n# Define function make_doctor()  that takes a parameter name\n# get user input for variable full_name\n# call the function using full_name   as argument\n# print the return value\n# create and call make_doctor() with full_name argument from user input - then print the return value\n\ndef make_doctor():\n    full_name = input(\"Enter your full name: \")\n    return full_name\n\nprint(\"Doctor name is\", make_doctor())",
      "execution_count": 11,
      "outputs": [
        {
          "output_type": "stream",
          "name": "stdout",
          "text": "Enter your full name: Lalita\nDoctor name is Lalita\n"
        }
      ]
    },
    {
      "metadata": {
        "trusted": true
      },
      "cell_type": "code",
      "source": "",
      "execution_count": null,
      "outputs": []
    }
  ],
  "metadata": {
    "kernelspec": {
      "name": "python3",
      "display_name": "Python 3",
      "language": "python"
    },
    "language_info": {
      "mimetype": "text/x-python",
      "nbconvert_exporter": "python",
      "name": "python",
      "pygments_lexer": "ipython3",
      "version": "3.5.4",
      "file_extension": ".py",
      "codemirror_mode": {
        "version": 3,
        "name": "ipython"
      }
    }
  },
  "nbformat": 4,
  "nbformat_minor": 1
}