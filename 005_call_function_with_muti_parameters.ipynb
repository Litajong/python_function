{
  "cells": [
    {
      "metadata": {
        "trusted": true
      },
      "cell_type": "code",
      "source": "# call function with multi-parameters\n\ndef make_schedule(period1, period2):\n    schedule = (\"[1st] \" + period1.title() + \", [2nd] \" + period2.title())\n    return schedule\n\nstudent_schedule = make_schedule(\"mathematics\", \"history\")\nprint(\"SCHEDULE: \", student_schedule)",
      "execution_count": 2,
      "outputs": [
        {
          "output_type": "stream",
          "text": "SCHEDULE:  [1st] Mathematics, [2nd] History\n",
          "name": "stdout"
        }
      ]
    },
    {
      "metadata": {
        "trusted": true
      },
      "cell_type": "code",
      "source": "# Task: Define make_schedule() adding a 3rd period to\n# Start with the above example code\n# add a parameter period_3\n# update function code to add period_3 to the schedule\n# call student_schedule() with an additional argument such as 'science'\n# print the schedule\n\n# add a 3rd period parameter to make_schedule\n\ndef make_schedule(period1, period2, period3)\n    schedule = (\"[1st] \" + period1.title() + \", [2nd] \" + period2.title() + \", [3rd] \" + period3.title())\n    return schedule\n\nstudent_schedule = make_schedule(\"mathematics\", \"history\", \"science\")\nprint(\"SCHEDULE: \", student_schedule)\n\n",
      "execution_count": 6,
      "outputs": [
        {
          "output_type": "error",
          "ename": "SyntaxError",
          "evalue": "invalid syntax (<ipython-input-6-853a9ae94258>, line 10)",
          "traceback": [
            "\u001b[0;36m  File \u001b[0;32m\"<ipython-input-6-853a9ae94258>\"\u001b[0;36m, line \u001b[0;32m10\u001b[0m\n\u001b[0;31m    def make_schedule(period1, period2, period3)\u001b[0m\n\u001b[0m                                                ^\u001b[0m\n\u001b[0;31mSyntaxError\u001b[0m\u001b[0;31m:\u001b[0m invalid syntax\n"
          ]
        }
      ]
    },
    {
      "metadata": {
        "trusted": true
      },
      "cell_type": "code",
      "source": "def format_info (name, age, school):\n    return \"Student: \"+ name + \"\\nAge: \" + str(age)+ \"\\nSchool: \"+ school\nprint(format_info(\"Tobies Ledford\", 15, \"Oak\"))\n",
      "execution_count": 5,
      "outputs": [
        {
          "output_type": "stream",
          "text": "Student: Tobies Ledford\nAge: 15\nSchool: Oak\n",
          "name": "stdout"
        }
      ]
    },
    {
      "metadata": {
        "trusted": true
      },
      "cell_type": "code",
      "source": "",
      "execution_count": null,
      "outputs": []
    }
  ],
  "metadata": {
    "kernelspec": {
      "name": "python3",
      "display_name": "Python 3",
      "language": "python"
    },
    "language_info": {
      "mimetype": "text/x-python",
      "nbconvert_exporter": "python",
      "name": "python",
      "file_extension": ".py",
      "version": "3.5.4",
      "pygments_lexer": "ipython3",
      "codemirror_mode": {
        "version": 3,
        "name": "ipython"
      }
    }
  },
  "nbformat": 4,
  "nbformat_minor": 1
}